{
  "nbformat": 4,
  "nbformat_minor": 0,
  "metadata": {
    "colab": {
      "name": "2021-07-09-fl-schools-covid19-2021.ipynb",
      "provenance": [],
      "collapsed_sections": [],
      "authorship_tag": "ABX9TyMHMSJNFRMG2rb0IDwfEMGT",
      "include_colab_link": true
    },
    "kernelspec": {
      "name": "python3",
      "display_name": "Python 3"
    },
    "language_info": {
      "name": "python"
    }
  },
  "cells": [
    {
      "cell_type": "markdown",
      "metadata": {
        "id": "view-in-github",
        "colab_type": "text"
      },
      "source": [
        "<a href=\"https://colab.research.google.com/github/drusho/fl_schools_covid19_2021/blob/main/notebooks/2021_07_09_fl_schools_covid19_2021.ipynb\" target=\"_parent\"><img src=\"https://colab.research.google.com/assets/colab-badge.svg\" alt=\"Open In Colab\"/></a>"
      ]
    },
    {
      "cell_type": "markdown",
      "metadata": {
        "id": "p6c_loKke5JY"
      },
      "source": [
        "# Florida School's Covid-19 Cases in 2021\n",
        "> Cleaning Data for Tableau\n",
        "\n",
        "- toc: false\n",
        "- badges: false\n",
        "- comments: true\n",
        "- categories: [Pandas]\n",
        "- image: \"images/thumbnails/header_classroom.png\""
      ]
    },
    {
      "cell_type": "markdown",
      "metadata": {
        "id": "8TncYNhFgx5g"
      },
      "source": [
        "<br>\n",
        "\n",
        "__Notebook Created by David Rusho__\n",
        "\n",
        "[Github Repository for this Notebook](https://github.com/drusho/EDA_US_Firework_Sales_and_Injuries)\n",
        "\n",
        "[Tableau Dashboard - FL School's Covid-19 Cases](https://public.tableau.com/app/profile/drusho/viz/FloridaSchools2020-2021Covid-19/Dashboard1)\n",
        "\n",
        "#####[<img src=\"https://raw.githubusercontent.com/drusho/fl_schools_covid19_2021/main/assets/tableau_dashboard_preview.png\" height=\"200\"/>](https://public.tableau.com/app/profile/drusho/viz/FloridaSchools2020-2021Covid-19/Dashboard1)\n",
        "\n",
        "\n",
        "<br>\n",
        "\n",
        "Other Social Media Links: \n",
        "\n",
        "[Twitter](https://twitter.com/drusho)  |  [Github](https://github.com/drusho)  |  [Linkedin](https://linkedin.com/in/davidrusho)  |  [Tableau](https://public.tableau.com/app/profile/drusho)  \n",
        "\n",
        "<br>"
      ]
    },
    {
      "cell_type": "markdown",
      "metadata": {
        "id": "FQpb8FmTJl0o"
      },
      "source": [
        "#hide \n",
        "\n",
        "To Do:\n",
        "\n",
        "- [ ] Include population (census data) pop for counties\n",
        "- [ ] Florida total teacher numbers.  % of teachers sick for county and state\n",
        "- [ ] Florida student counts for all students and per county\n",
        "- [ ] Change format from wide to long format\n"
      ]
    },
    {
      "cell_type": "markdown",
      "metadata": {
        "id": "5H5P3YC1hTd8"
      },
      "source": [
        "## __Introduction__\n",
        "---"
      ]
    },
    {
      "cell_type": "markdown",
      "metadata": {
        "id": "lfTvSIdwhavk"
      },
      "source": [
        "### About the Data\n",
        "\n",
        "####<img src=\"https://raw.githubusercontent.com/drusho/fl_schools_covid19_2021/main/assets/pdf_report_preview.png\" height=\"200\"/>\n",
        "\n",
        "This [Data](http://ww11.doh.state.fl.us/comm/_partners/covid19_report_archive/school-reports/) comes from the Florida Department of Health.  They release several reports throughout the years that list the number of positive covid-19 cases by school.  The types of schools include Elementary, Middle, High School, Charter/Prepatory Schools, and University/Colleges.  The data is presented on a pdf, is in wide format, and the school types are note labeled.\n",
        "\n",
        "Also, the version of Tableau that is being used is Tableau Public.  This means that the data that is exported will need to be in an excel format."
      ]
    },
    {
      "cell_type": "markdown",
      "metadata": {
        "id": "QEsu12wuDvCY"
      },
      "source": [
        "## __Data Cleaning__\n",
        "---"
      ]
    },
    {
      "cell_type": "markdown",
      "metadata": {
        "id": "J1NJ2JqsmXUg"
      },
      "source": [
        "### Import Data"
      ]
    },
    {
      "cell_type": "code",
      "metadata": {
        "id": "3O_vjIQiytiQ"
      },
      "source": [
        "#collapse\n",
        "import pandas as pd"
      ],
      "execution_count": null,
      "outputs": []
    },
    {
      "cell_type": "code",
      "metadata": {
        "colab": {
          "base_uri": "https://localhost:8080/",
          "height": 164
        },
        "id": "UB1M-8VfzQ3M",
        "outputId": "fedf4cc2-cbda-49d0-e6ed-1f4684c62e12"
      },
      "source": [
        "#collapse\n",
        "#import pdf and filter cols/rows\n",
        "df = pd.read_csv('schools_latest.csv',usecols=[0,1,12,13,14,15,16,17,18,19],skiprows=5)\n",
        "df.sample(2)"
      ],
      "execution_count": null,
      "outputs": [
        {
          "output_type": "execute_result",
          "data": {
            "text/html": [
              "<div>\n",
              "<style scoped>\n",
              "    .dataframe tbody tr th:only-of-type {\n",
              "        vertical-align: middle;\n",
              "    }\n",
              "\n",
              "    .dataframe tbody tr th {\n",
              "        vertical-align: top;\n",
              "    }\n",
              "\n",
              "    .dataframe thead th {\n",
              "        text-align: right;\n",
              "    }\n",
              "</style>\n",
              "<table border=\"1\" class=\"dataframe\">\n",
              "  <thead>\n",
              "    <tr style=\"text-align: right;\">\n",
              "      <th></th>\n",
              "      <th>School</th>\n",
              "      <th>County</th>\n",
              "      <th>Unnamed: 12</th>\n",
              "      <th>Students.1</th>\n",
              "      <th>Teachers.1</th>\n",
              "      <th>Staff.1</th>\n",
              "      <th>Unknown.2</th>\n",
              "      <th>Yes.1</th>\n",
              "      <th>No.1</th>\n",
              "      <th>Unknown.3</th>\n",
              "    </tr>\n",
              "  </thead>\n",
              "  <tbody>\n",
              "    <tr>\n",
              "      <th>4230</th>\n",
              "      <td>NaN</td>\n",
              "      <td>NaN</td>\n",
              "      <td>NaN</td>\n",
              "      <td>NaN</td>\n",
              "      <td>Cumulative (Sep 6 - May 22)</td>\n",
              "      <td>NaN</td>\n",
              "      <td>NaN</td>\n",
              "      <td>NaN</td>\n",
              "      <td>NaN</td>\n",
              "      <td>NaN</td>\n",
              "    </tr>\n",
              "    <tr>\n",
              "      <th>6209</th>\n",
              "      <td>THE WEBSTER SCHOOL</td>\n",
              "      <td>St. Johns</td>\n",
              "      <td>25</td>\n",
              "      <td>14</td>\n",
              "      <td>2</td>\n",
              "      <td>5</td>\n",
              "      <td>4</td>\n",
              "      <td>17</td>\n",
              "      <td>8</td>\n",
              "      <td>0</td>\n",
              "    </tr>\n",
              "  </tbody>\n",
              "</table>\n",
              "</div>"
            ],
            "text/plain": [
              "                  School     County Unnamed: 12  ... Yes.1 No.1 Unknown.3\n",
              "4230                 NaN        NaN         NaN  ...   NaN  NaN       NaN\n",
              "6209  THE WEBSTER SCHOOL  St. Johns          25  ...    17    8         0\n",
              "\n",
              "[2 rows x 10 columns]"
            ]
          },
          "metadata": {
            "tags": []
          },
          "execution_count": 30
        }
      ]
    },
    {
      "cell_type": "markdown",
      "metadata": {
        "id": "lJ7ueCb2mhTk"
      },
      "source": [
        "### Rename Columns"
      ]
    },
    {
      "cell_type": "code",
      "metadata": {
        "colab": {
          "base_uri": "https://localhost:8080/",
          "height": 219
        },
        "id": "gs_94ARJ7PF4",
        "outputId": "8717b42c-97f7-40a9-a36d-4b0e1c27a25f"
      },
      "source": [
        "#collapse\n",
        "#rename columns\n",
        "df.columns=['School','County','Total_Cases','Students','Teachers','Staff','Unknown','Symptoms_Yes','Symptoms_No','Symptoms_Unknown']\n",
        "df.sample(2)"
      ],
      "execution_count": null,
      "outputs": [
        {
          "output_type": "execute_result",
          "data": {
            "text/html": [
              "<div>\n",
              "<style scoped>\n",
              "    .dataframe tbody tr th:only-of-type {\n",
              "        vertical-align: middle;\n",
              "    }\n",
              "\n",
              "    .dataframe tbody tr th {\n",
              "        vertical-align: top;\n",
              "    }\n",
              "\n",
              "    .dataframe thead th {\n",
              "        text-align: right;\n",
              "    }\n",
              "</style>\n",
              "<table border=\"1\" class=\"dataframe\">\n",
              "  <thead>\n",
              "    <tr style=\"text-align: right;\">\n",
              "      <th></th>\n",
              "      <th>School</th>\n",
              "      <th>County</th>\n",
              "      <th>Total_Cases</th>\n",
              "      <th>Students</th>\n",
              "      <th>Teachers</th>\n",
              "      <th>Staff</th>\n",
              "      <th>Unknown</th>\n",
              "      <th>Symptoms_Yes</th>\n",
              "      <th>Symptoms_No</th>\n",
              "      <th>Symptoms_Unknown</th>\n",
              "    </tr>\n",
              "  </thead>\n",
              "  <tbody>\n",
              "    <tr>\n",
              "      <th>2900</th>\n",
              "      <td>BOYETTE SPRINGS ELEMENTARY SCHOOL</td>\n",
              "      <td>Hillsborough</td>\n",
              "      <td>24</td>\n",
              "      <td>15</td>\n",
              "      <td>3</td>\n",
              "      <td>4</td>\n",
              "      <td>2</td>\n",
              "      <td>15</td>\n",
              "      <td>3</td>\n",
              "      <td>6</td>\n",
              "    </tr>\n",
              "    <tr>\n",
              "      <th>3641</th>\n",
              "      <td>SIX MILE CHARTER ACADEMY</td>\n",
              "      <td>Lee</td>\n",
              "      <td>17</td>\n",
              "      <td>15</td>\n",
              "      <td>1</td>\n",
              "      <td>0</td>\n",
              "      <td>1</td>\n",
              "      <td>7</td>\n",
              "      <td>7</td>\n",
              "      <td>3</td>\n",
              "    </tr>\n",
              "  </tbody>\n",
              "</table>\n",
              "</div>"
            ],
            "text/plain": [
              "                                 School  ... Symptoms_Unknown\n",
              "2900  BOYETTE SPRINGS ELEMENTARY SCHOOL  ...                6\n",
              "3641           SIX MILE CHARTER ACADEMY  ...                3\n",
              "\n",
              "[2 rows x 10 columns]"
            ]
          },
          "metadata": {
            "tags": []
          },
          "execution_count": 31
        }
      ]
    },
    {
      "cell_type": "markdown",
      "metadata": {
        "id": "D61_LCNKm9po"
      },
      "source": [
        "### Remove nan values from _'School'_ col"
      ]
    },
    {
      "cell_type": "code",
      "metadata": {
        "colab": {
          "base_uri": "https://localhost:8080/",
          "height": 167
        },
        "id": "3z_cAJfE8LE8",
        "outputId": "05b45a92-59cd-48e7-9045-63fb664e3aad"
      },
      "source": [
        "#hide\n",
        "# df contains multiple headers throughout the data\n",
        "# push all na values for school to end of df\n",
        "\n",
        "df.sort_values(by='School',inplace=True)\n",
        "df.tail(2)"
      ],
      "execution_count": null,
      "outputs": [
        {
          "output_type": "execute_result",
          "data": {
            "text/html": [
              "<div>\n",
              "<style scoped>\n",
              "    .dataframe tbody tr th:only-of-type {\n",
              "        vertical-align: middle;\n",
              "    }\n",
              "\n",
              "    .dataframe tbody tr th {\n",
              "        vertical-align: top;\n",
              "    }\n",
              "\n",
              "    .dataframe thead th {\n",
              "        text-align: right;\n",
              "    }\n",
              "</style>\n",
              "<table border=\"1\" class=\"dataframe\">\n",
              "  <thead>\n",
              "    <tr style=\"text-align: right;\">\n",
              "      <th></th>\n",
              "      <th>School</th>\n",
              "      <th>County</th>\n",
              "      <th>Total_Cases</th>\n",
              "      <th>Students</th>\n",
              "      <th>Teachers</th>\n",
              "      <th>Staff</th>\n",
              "      <th>Unknown</th>\n",
              "      <th>Symptoms_Yes</th>\n",
              "      <th>Symptoms_No</th>\n",
              "      <th>Symptoms_Unknown</th>\n",
              "    </tr>\n",
              "  </thead>\n",
              "  <tbody>\n",
              "    <tr>\n",
              "      <th>6869</th>\n",
              "      <td>NaN</td>\n",
              "      <td>NaN</td>\n",
              "      <td>NaN</td>\n",
              "      <td>NaN</td>\n",
              "      <td>Cumulative (Sep 6 - May 22)</td>\n",
              "      <td>NaN</td>\n",
              "      <td>NaN</td>\n",
              "      <td>NaN</td>\n",
              "      <td>NaN</td>\n",
              "      <td>NaN</td>\n",
              "    </tr>\n",
              "    <tr>\n",
              "      <th>6870</th>\n",
              "      <td>NaN</td>\n",
              "      <td>NaN</td>\n",
              "      <td>Total\\ncases</td>\n",
              "      <td>NaN</td>\n",
              "      <td>Role</td>\n",
              "      <td>NaN</td>\n",
              "      <td>NaN</td>\n",
              "      <td>NaN</td>\n",
              "      <td>Symptoms</td>\n",
              "      <td>NaN</td>\n",
              "    </tr>\n",
              "  </tbody>\n",
              "</table>\n",
              "</div>"
            ],
            "text/plain": [
              "     School County   Total_Cases  ... Symptoms_Yes Symptoms_No Symptoms_Unknown\n",
              "6869    NaN    NaN           NaN  ...          NaN         NaN              NaN\n",
              "6870    NaN    NaN  Total\\ncases  ...          NaN    Symptoms              NaN\n",
              "\n",
              "[2 rows x 10 columns]"
            ]
          },
          "metadata": {
            "tags": []
          },
          "execution_count": 32
        }
      ]
    },
    {
      "cell_type": "code",
      "metadata": {
        "colab": {
          "base_uri": "https://localhost:8080/",
          "height": 202
        },
        "id": "EiyAZff68baQ",
        "outputId": "99fe3026-ac88-467c-c63f-df1299114381"
      },
      "source": [
        "#hide\n",
        "#remove all na values using School as a foundation\n",
        "df1 = df[df['School'].notna()].reset_index(drop=True)\n",
        "df1.sample(2)"
      ],
      "execution_count": null,
      "outputs": [
        {
          "output_type": "execute_result",
          "data": {
            "text/html": [
              "<div>\n",
              "<style scoped>\n",
              "    .dataframe tbody tr th:only-of-type {\n",
              "        vertical-align: middle;\n",
              "    }\n",
              "\n",
              "    .dataframe tbody tr th {\n",
              "        vertical-align: top;\n",
              "    }\n",
              "\n",
              "    .dataframe thead th {\n",
              "        text-align: right;\n",
              "    }\n",
              "</style>\n",
              "<table border=\"1\" class=\"dataframe\">\n",
              "  <thead>\n",
              "    <tr style=\"text-align: right;\">\n",
              "      <th></th>\n",
              "      <th>School</th>\n",
              "      <th>County</th>\n",
              "      <th>Total_Cases</th>\n",
              "      <th>Students</th>\n",
              "      <th>Teachers</th>\n",
              "      <th>Staff</th>\n",
              "      <th>Unknown</th>\n",
              "      <th>Symptoms_Yes</th>\n",
              "      <th>Symptoms_No</th>\n",
              "      <th>Symptoms_Unknown</th>\n",
              "    </tr>\n",
              "  </thead>\n",
              "  <tbody>\n",
              "    <tr>\n",
              "      <th>2936</th>\n",
              "      <td>JACKSONVILLE SCHOOL FOR AUTISM</td>\n",
              "      <td>Duval</td>\n",
              "      <td>4</td>\n",
              "      <td>1</td>\n",
              "      <td>1</td>\n",
              "      <td>0</td>\n",
              "      <td>2</td>\n",
              "      <td>2</td>\n",
              "      <td>0</td>\n",
              "      <td>2</td>\n",
              "    </tr>\n",
              "    <tr>\n",
              "      <th>5641</th>\n",
              "      <td>SUNLAND PARK ACADEMY</td>\n",
              "      <td>Broward</td>\n",
              "      <td>14</td>\n",
              "      <td>9</td>\n",
              "      <td>2</td>\n",
              "      <td>3</td>\n",
              "      <td>0</td>\n",
              "      <td>6</td>\n",
              "      <td>8</td>\n",
              "      <td>0</td>\n",
              "    </tr>\n",
              "  </tbody>\n",
              "</table>\n",
              "</div>"
            ],
            "text/plain": [
              "                              School   County  ... Symptoms_No Symptoms_Unknown\n",
              "2936  JACKSONVILLE SCHOOL FOR AUTISM    Duval  ...           0                2\n",
              "5641            SUNLAND PARK ACADEMY  Broward  ...           8                0\n",
              "\n",
              "[2 rows x 10 columns]"
            ]
          },
          "metadata": {
            "tags": []
          },
          "execution_count": 33
        }
      ]
    },
    {
      "cell_type": "code",
      "metadata": {
        "colab": {
          "base_uri": "https://localhost:8080/",
          "height": 372
        },
        "id": "fsg-O_7w90FQ",
        "outputId": "786d2026-d08e-4019-b158-eac49e38b9df"
      },
      "source": [
        "#hide\n",
        "# nan values remain in some cols\n",
        "df1[df1['County'].isna()].sample(3)"
      ],
      "execution_count": null,
      "outputs": [
        {
          "output_type": "execute_result",
          "data": {
            "text/html": [
              "<div>\n",
              "<style scoped>\n",
              "    .dataframe tbody tr th:only-of-type {\n",
              "        vertical-align: middle;\n",
              "    }\n",
              "\n",
              "    .dataframe tbody tr th {\n",
              "        vertical-align: top;\n",
              "    }\n",
              "\n",
              "    .dataframe thead th {\n",
              "        text-align: right;\n",
              "    }\n",
              "</style>\n",
              "<table border=\"1\" class=\"dataframe\">\n",
              "  <thead>\n",
              "    <tr style=\"text-align: right;\">\n",
              "      <th></th>\n",
              "      <th>School</th>\n",
              "      <th>County</th>\n",
              "      <th>Total_Cases</th>\n",
              "      <th>Students</th>\n",
              "      <th>Teachers</th>\n",
              "      <th>Staff</th>\n",
              "      <th>Unknown</th>\n",
              "      <th>Symptoms_Yes</th>\n",
              "      <th>Symptoms_No</th>\n",
              "      <th>Symptoms_Unknown</th>\n",
              "    </tr>\n",
              "  </thead>\n",
              "  <tbody>\n",
              "    <tr>\n",
              "      <th>1209</th>\n",
              "      <td>COVID-19: summary of cases associated with pri...</td>\n",
              "      <td>NaN</td>\n",
              "      <td>NaN</td>\n",
              "      <td>NaN</td>\n",
              "      <td>NaN</td>\n",
              "      <td>NaN</td>\n",
              "      <td>NaN</td>\n",
              "      <td>NaN</td>\n",
              "      <td>NaN</td>\n",
              "      <td>NaN</td>\n",
              "    </tr>\n",
              "    <tr>\n",
              "      <th>1598</th>\n",
              "      <td>Data from September 6, 2020 to May 22, 2021 as...</td>\n",
              "      <td>NaN</td>\n",
              "      <td>NaN</td>\n",
              "      <td>NaN</td>\n",
              "      <td>NaN</td>\n",
              "      <td>NaN</td>\n",
              "      <td>NaN</td>\n",
              "      <td>NaN</td>\n",
              "      <td>NaN</td>\n",
              "      <td>NaN</td>\n",
              "    </tr>\n",
              "    <tr>\n",
              "      <th>1171</th>\n",
              "      <td>COVID-19: summary of cases associated with pri...</td>\n",
              "      <td>NaN</td>\n",
              "      <td>NaN</td>\n",
              "      <td>NaN</td>\n",
              "      <td>NaN</td>\n",
              "      <td>NaN</td>\n",
              "      <td>NaN</td>\n",
              "      <td>NaN</td>\n",
              "      <td>NaN</td>\n",
              "      <td>NaN</td>\n",
              "    </tr>\n",
              "  </tbody>\n",
              "</table>\n",
              "</div>"
            ],
            "text/plain": [
              "                                                 School  ... Symptoms_Unknown\n",
              "1209  COVID-19: summary of cases associated with pri...  ...              NaN\n",
              "1598  Data from September 6, 2020 to May 22, 2021 as...  ...              NaN\n",
              "1171  COVID-19: summary of cases associated with pri...  ...              NaN\n",
              "\n",
              "[3 rows x 10 columns]"
            ]
          },
          "metadata": {
            "tags": []
          },
          "execution_count": 34
        }
      ]
    },
    {
      "cell_type": "markdown",
      "metadata": {
        "id": "EwBusiJUniWE"
      },
      "source": [
        "### Remove nan values from _'County'_ col"
      ]
    },
    {
      "cell_type": "code",
      "metadata": {
        "colab": {
          "base_uri": "https://localhost:8080/",
          "height": 320
        },
        "id": "6Npx0Pcu-yEc",
        "outputId": "b49188ea-db65-484b-9f4c-64315a96e0b7"
      },
      "source": [
        "#collapse-output\n",
        "# new df with nan values removed\n",
        "df2 = df1[df1['County'].isna()==False]\n",
        "df2.sample(3)"
      ],
      "execution_count": null,
      "outputs": [
        {
          "output_type": "execute_result",
          "data": {
            "text/html": [
              "<div>\n",
              "<style scoped>\n",
              "    .dataframe tbody tr th:only-of-type {\n",
              "        vertical-align: middle;\n",
              "    }\n",
              "\n",
              "    .dataframe tbody tr th {\n",
              "        vertical-align: top;\n",
              "    }\n",
              "\n",
              "    .dataframe thead th {\n",
              "        text-align: right;\n",
              "    }\n",
              "</style>\n",
              "<table border=\"1\" class=\"dataframe\">\n",
              "  <thead>\n",
              "    <tr style=\"text-align: right;\">\n",
              "      <th></th>\n",
              "      <th>School</th>\n",
              "      <th>County</th>\n",
              "      <th>Total_Cases</th>\n",
              "      <th>Students</th>\n",
              "      <th>Teachers</th>\n",
              "      <th>Staff</th>\n",
              "      <th>Unknown</th>\n",
              "      <th>Symptoms_Yes</th>\n",
              "      <th>Symptoms_No</th>\n",
              "      <th>Symptoms_Unknown</th>\n",
              "    </tr>\n",
              "  </thead>\n",
              "  <tbody>\n",
              "    <tr>\n",
              "      <th>995</th>\n",
              "      <td>COCONUT GROVE MONTESSORI SCHOOL</td>\n",
              "      <td>Dade</td>\n",
              "      <td>4</td>\n",
              "      <td>2</td>\n",
              "      <td>0</td>\n",
              "      <td>0</td>\n",
              "      <td>2</td>\n",
              "      <td>1</td>\n",
              "      <td>2</td>\n",
              "      <td>1</td>\n",
              "    </tr>\n",
              "    <tr>\n",
              "      <th>3805</th>\n",
              "      <td>MIAMI NORLAND SENIOR HIGH SCHOOL</td>\n",
              "      <td>Dade</td>\n",
              "      <td>27</td>\n",
              "      <td>16</td>\n",
              "      <td>2</td>\n",
              "      <td>2</td>\n",
              "      <td>7</td>\n",
              "      <td>19</td>\n",
              "      <td>8</td>\n",
              "      <td>0</td>\n",
              "    </tr>\n",
              "    <tr>\n",
              "      <th>2619</th>\n",
              "      <td>HENRY S. WEST LABORATORY SCHOOL</td>\n",
              "      <td>Dade</td>\n",
              "      <td>6</td>\n",
              "      <td>5</td>\n",
              "      <td>0</td>\n",
              "      <td>0</td>\n",
              "      <td>1</td>\n",
              "      <td>3</td>\n",
              "      <td>2</td>\n",
              "      <td>1</td>\n",
              "    </tr>\n",
              "  </tbody>\n",
              "</table>\n",
              "</div>"
            ],
            "text/plain": [
              "                                School County  ... Symptoms_No Symptoms_Unknown\n",
              "995    COCONUT GROVE MONTESSORI SCHOOL   Dade  ...           2                1\n",
              "3805  MIAMI NORLAND SENIOR HIGH SCHOOL   Dade  ...           8                0\n",
              "2619   HENRY S. WEST LABORATORY SCHOOL   Dade  ...           2                1\n",
              "\n",
              "[3 rows x 10 columns]"
            ]
          },
          "metadata": {
            "tags": []
          },
          "execution_count": 35
        }
      ]
    },
    {
      "cell_type": "code",
      "metadata": {
        "colab": {
          "base_uri": "https://localhost:8080/"
        },
        "id": "oZLV-VEp_6Vc",
        "outputId": "12ed6b45-810c-4add-ab44-ee86ee76af2a"
      },
      "source": [
        "#collapse\n",
        "df2.isna().sum()"
      ],
      "execution_count": null,
      "outputs": [
        {
          "output_type": "execute_result",
          "data": {
            "text/plain": [
              "School                0\n",
              "County                0\n",
              "Total_Cases         135\n",
              "Students              0\n",
              "Teachers              0\n",
              "Staff                 0\n",
              "Unknown               0\n",
              "Symptoms_Yes          0\n",
              "Symptoms_No           0\n",
              "Symptoms_Unknown      0\n",
              "dtype: int64"
            ]
          },
          "metadata": {
            "tags": []
          },
          "execution_count": 36
        }
      ]
    },
    {
      "cell_type": "code",
      "metadata": {
        "colab": {
          "base_uri": "https://localhost:8080/",
          "height": 163
        },
        "id": "JcLvc4q9CU08",
        "outputId": "8937a8d6-e6bc-4392-f381-7a2c81615fe6"
      },
      "source": [
        "#hide\n",
        "#finding more rows with nan values\n",
        "df2[df2.Total_Cases.isna()].sample(3)"
      ],
      "execution_count": null,
      "outputs": [
        {
          "output_type": "execute_result",
          "data": {
            "text/html": [
              "<div>\n",
              "<style scoped>\n",
              "    .dataframe tbody tr th:only-of-type {\n",
              "        vertical-align: middle;\n",
              "    }\n",
              "\n",
              "    .dataframe tbody tr th {\n",
              "        vertical-align: top;\n",
              "    }\n",
              "\n",
              "    .dataframe thead th {\n",
              "        text-align: right;\n",
              "    }\n",
              "</style>\n",
              "<table border=\"1\" class=\"dataframe\">\n",
              "  <thead>\n",
              "    <tr style=\"text-align: right;\">\n",
              "      <th></th>\n",
              "      <th>School</th>\n",
              "      <th>County</th>\n",
              "      <th>Total_Cases</th>\n",
              "      <th>Students</th>\n",
              "      <th>Teachers</th>\n",
              "      <th>Staff</th>\n",
              "      <th>Unknown</th>\n",
              "      <th>Symptoms_Yes</th>\n",
              "      <th>Symptoms_No</th>\n",
              "      <th>Symptoms_Unknown</th>\n",
              "    </tr>\n",
              "  </thead>\n",
              "  <tbody>\n",
              "    <tr>\n",
              "      <th>5822</th>\n",
              "      <td>School</td>\n",
              "      <td>County</td>\n",
              "      <td>NaN</td>\n",
              "      <td>Students</td>\n",
              "      <td>Teachers</td>\n",
              "      <td>Staff</td>\n",
              "      <td>Unknown</td>\n",
              "      <td>Yes</td>\n",
              "      <td>No</td>\n",
              "      <td>Unknown</td>\n",
              "    </tr>\n",
              "    <tr>\n",
              "      <th>5767</th>\n",
              "      <td>School</td>\n",
              "      <td>County</td>\n",
              "      <td>NaN</td>\n",
              "      <td>Students</td>\n",
              "      <td>Teachers</td>\n",
              "      <td>Staff</td>\n",
              "      <td>Unknown</td>\n",
              "      <td>Yes</td>\n",
              "      <td>No</td>\n",
              "      <td>Unknown</td>\n",
              "    </tr>\n",
              "    <tr>\n",
              "      <th>5719</th>\n",
              "      <td>School</td>\n",
              "      <td>County</td>\n",
              "      <td>NaN</td>\n",
              "      <td>Students</td>\n",
              "      <td>Teachers</td>\n",
              "      <td>Staff</td>\n",
              "      <td>Unknown</td>\n",
              "      <td>Yes</td>\n",
              "      <td>No</td>\n",
              "      <td>Unknown</td>\n",
              "    </tr>\n",
              "  </tbody>\n",
              "</table>\n",
              "</div>"
            ],
            "text/plain": [
              "      School  County Total_Cases  ... Symptoms_Yes Symptoms_No Symptoms_Unknown\n",
              "5822  School  County         NaN  ...          Yes          No          Unknown\n",
              "5767  School  County         NaN  ...          Yes          No          Unknown\n",
              "5719  School  County         NaN  ...          Yes          No          Unknown\n",
              "\n",
              "[3 rows x 10 columns]"
            ]
          },
          "metadata": {
            "tags": []
          },
          "execution_count": 37
        }
      ]
    },
    {
      "cell_type": "markdown",
      "metadata": {
        "id": "lvTLDUB6nnhU"
      },
      "source": [
        "### Remove nan values from _'Total Cases'_ col"
      ]
    },
    {
      "cell_type": "code",
      "metadata": {
        "colab": {
          "base_uri": "https://localhost:8080/",
          "height": 302
        },
        "id": "TJNOOLAiC644",
        "outputId": "e8ebdbe9-98a9-4dc1-e1f9-f22ce662a7db"
      },
      "source": [
        "#new df without nan in Total Cases\n",
        "df3 = df2[df2.Total_Cases.isna()==False]\n",
        "df3.sample(3)"
      ],
      "execution_count": null,
      "outputs": [
        {
          "output_type": "execute_result",
          "data": {
            "text/html": [
              "<div>\n",
              "<style scoped>\n",
              "    .dataframe tbody tr th:only-of-type {\n",
              "        vertical-align: middle;\n",
              "    }\n",
              "\n",
              "    .dataframe tbody tr th {\n",
              "        vertical-align: top;\n",
              "    }\n",
              "\n",
              "    .dataframe thead th {\n",
              "        text-align: right;\n",
              "    }\n",
              "</style>\n",
              "<table border=\"1\" class=\"dataframe\">\n",
              "  <thead>\n",
              "    <tr style=\"text-align: right;\">\n",
              "      <th></th>\n",
              "      <th>School</th>\n",
              "      <th>County</th>\n",
              "      <th>Total_Cases</th>\n",
              "      <th>Students</th>\n",
              "      <th>Teachers</th>\n",
              "      <th>Staff</th>\n",
              "      <th>Unknown</th>\n",
              "      <th>Symptoms_Yes</th>\n",
              "      <th>Symptoms_No</th>\n",
              "      <th>Symptoms_Unknown</th>\n",
              "    </tr>\n",
              "  </thead>\n",
              "  <tbody>\n",
              "    <tr>\n",
              "      <th>4686</th>\n",
              "      <td>PORT CHARLOTTE MIDDLE SCHOOL</td>\n",
              "      <td>Charlotte</td>\n",
              "      <td>34</td>\n",
              "      <td>28</td>\n",
              "      <td>2</td>\n",
              "      <td>0</td>\n",
              "      <td>4</td>\n",
              "      <td>25</td>\n",
              "      <td>9</td>\n",
              "      <td>0</td>\n",
              "    </tr>\n",
              "    <tr>\n",
              "      <th>5681</th>\n",
              "      <td>SURGE CHRISTIAN ACADEMY</td>\n",
              "      <td>Pinellas</td>\n",
              "      <td>4</td>\n",
              "      <td>4</td>\n",
              "      <td>0</td>\n",
              "      <td>0</td>\n",
              "      <td>0</td>\n",
              "      <td>3</td>\n",
              "      <td>1</td>\n",
              "      <td>0</td>\n",
              "    </tr>\n",
              "    <tr>\n",
              "      <th>6204</th>\n",
              "      <td>VALRICO LAKE ADVANTAGE ACADEMY</td>\n",
              "      <td>Hillsborough</td>\n",
              "      <td>15</td>\n",
              "      <td>10</td>\n",
              "      <td>3</td>\n",
              "      <td>0</td>\n",
              "      <td>2</td>\n",
              "      <td>7</td>\n",
              "      <td>0</td>\n",
              "      <td>8</td>\n",
              "    </tr>\n",
              "  </tbody>\n",
              "</table>\n",
              "</div>"
            ],
            "text/plain": [
              "                              School        County  ... Symptoms_No Symptoms_Unknown\n",
              "4686    PORT CHARLOTTE MIDDLE SCHOOL     Charlotte  ...           9                0\n",
              "5681         SURGE CHRISTIAN ACADEMY      Pinellas  ...           1                0\n",
              "6204  VALRICO LAKE ADVANTAGE ACADEMY  Hillsborough  ...           0                8\n",
              "\n",
              "[3 rows x 10 columns]"
            ]
          },
          "metadata": {
            "tags": []
          },
          "execution_count": 38
        }
      ]
    },
    {
      "cell_type": "markdown",
      "metadata": {
        "id": "KyN0xuS6nquA"
      },
      "source": [
        "### Dataframe contains no nan values.  "
      ]
    },
    {
      "cell_type": "code",
      "metadata": {
        "colab": {
          "base_uri": "https://localhost:8080/"
        },
        "id": "RXJMkAxQCrF8",
        "outputId": "e15c3a7a-d3e0-4a46-ea26-f1412a0c2261"
      },
      "source": [
        "#collapse\n",
        "#df is balanced with nan values removed\n",
        "df3.info()"
      ],
      "execution_count": null,
      "outputs": [
        {
          "output_type": "stream",
          "text": [
            "<class 'pandas.core.frame.DataFrame'>\n",
            "Int64Index: 6064 entries, 0 to 6603\n",
            "Data columns (total 10 columns):\n",
            " #   Column            Non-Null Count  Dtype \n",
            "---  ------            --------------  ----- \n",
            " 0   School            6064 non-null   object\n",
            " 1   County            6064 non-null   object\n",
            " 2   Total_Cases       6064 non-null   object\n",
            " 3   Students          6064 non-null   object\n",
            " 4   Teachers          6064 non-null   object\n",
            " 5   Staff             6064 non-null   object\n",
            " 6   Unknown           6064 non-null   object\n",
            " 7   Symptoms_Yes      6064 non-null   object\n",
            " 8   Symptoms_No       6064 non-null   object\n",
            " 9   Symptoms_Unknown  6064 non-null   object\n",
            "dtypes: object(10)\n",
            "memory usage: 521.1+ KB\n"
          ],
          "name": "stdout"
        }
      ]
    },
    {
      "cell_type": "markdown",
      "metadata": {
        "id": "qeLbdCk2n7E4"
      },
      "source": [
        "### Drop unnecessary cols"
      ]
    },
    {
      "cell_type": "code",
      "metadata": {
        "colab": {
          "base_uri": "https://localhost:8080/",
          "height": 143
        },
        "id": "pAqy3xzBMrPA",
        "outputId": "e2868681-4ca4-4cd5-f7b8-b485e285b46e"
      },
      "source": [
        "# drop symptoms cols\n",
        "# No way to identify which goups symptoms belong to\n",
        "df4 = df3.drop(columns=['Symptoms_Yes','Symptoms_No','Symptoms_Unknown']).reset_index(drop=True)\n",
        "df4.head(3)"
      ],
      "execution_count": null,
      "outputs": [
        {
          "output_type": "execute_result",
          "data": {
            "text/html": [
              "<div>\n",
              "<style scoped>\n",
              "    .dataframe tbody tr th:only-of-type {\n",
              "        vertical-align: middle;\n",
              "    }\n",
              "\n",
              "    .dataframe tbody tr th {\n",
              "        vertical-align: top;\n",
              "    }\n",
              "\n",
              "    .dataframe thead th {\n",
              "        text-align: right;\n",
              "    }\n",
              "</style>\n",
              "<table border=\"1\" class=\"dataframe\">\n",
              "  <thead>\n",
              "    <tr style=\"text-align: right;\">\n",
              "      <th></th>\n",
              "      <th>School</th>\n",
              "      <th>County</th>\n",
              "      <th>Total_Cases</th>\n",
              "      <th>Students</th>\n",
              "      <th>Teachers</th>\n",
              "      <th>Staff</th>\n",
              "      <th>Unknown</th>\n",
              "    </tr>\n",
              "  </thead>\n",
              "  <tbody>\n",
              "    <tr>\n",
              "      <th>0</th>\n",
              "      <td>IRVING &amp; BEATRICE PESKOE K-8 CENTER</td>\n",
              "      <td>Dade</td>\n",
              "      <td>1</td>\n",
              "      <td>0</td>\n",
              "      <td>0</td>\n",
              "      <td>0</td>\n",
              "      <td>1</td>\n",
              "    </tr>\n",
              "    <tr>\n",
              "      <th>1</th>\n",
              "      <td>2010 E HILLSBOROUGH AVE,</td>\n",
              "      <td>Hillsborough</td>\n",
              "      <td>1</td>\n",
              "      <td>1</td>\n",
              "      <td>0</td>\n",
              "      <td>0</td>\n",
              "      <td>0</td>\n",
              "    </tr>\n",
              "    <tr>\n",
              "      <th>2</th>\n",
              "      <td>A BLESSED ACADEMY</td>\n",
              "      <td>Polk</td>\n",
              "      <td>1</td>\n",
              "      <td>1</td>\n",
              "      <td>0</td>\n",
              "      <td>0</td>\n",
              "      <td>0</td>\n",
              "    </tr>\n",
              "  </tbody>\n",
              "</table>\n",
              "</div>"
            ],
            "text/plain": [
              "                                 School        County  ... Staff Unknown\n",
              "0   IRVING & BEATRICE PESKOE K-8 CENTER          Dade  ...     0       1\n",
              "1              2010 E HILLSBOROUGH AVE,  Hillsborough  ...     0       0\n",
              "2                     A BLESSED ACADEMY          Polk  ...     0       0\n",
              "\n",
              "[3 rows x 7 columns]"
            ]
          },
          "metadata": {
            "tags": []
          },
          "execution_count": 40
        }
      ]
    },
    {
      "cell_type": "markdown",
      "metadata": {
        "id": "e9dkn3pioI5Q"
      },
      "source": [
        "### Concat _'School'_ and _'County'_ cols\n",
        "\n",
        "Several schools have the same name.  Combining School and County columns creates a unique identifier that can be split in Tableau to contain more useful data visualizations.\n",
        "\n"
      ]
    },
    {
      "cell_type": "code",
      "metadata": {
        "colab": {
          "base_uri": "https://localhost:8080/",
          "height": 310
        },
        "id": "6Yo1DeMkLJiw",
        "outputId": "31fc7d5b-a2e7-4637-b617-07544e22c531"
      },
      "source": [
        "# Concat _'School'_ and _'County'_ cols\n",
        "df4['School_County'] = (df4.School.str.cat(df4.County, sep=\" (\") + \" County)\").str.title()\n",
        "df4.head()"
      ],
      "execution_count": null,
      "outputs": [
        {
          "output_type": "execute_result",
          "data": {
            "text/html": [
              "<div>\n",
              "<style scoped>\n",
              "    .dataframe tbody tr th:only-of-type {\n",
              "        vertical-align: middle;\n",
              "    }\n",
              "\n",
              "    .dataframe tbody tr th {\n",
              "        vertical-align: top;\n",
              "    }\n",
              "\n",
              "    .dataframe thead th {\n",
              "        text-align: right;\n",
              "    }\n",
              "</style>\n",
              "<table border=\"1\" class=\"dataframe\">\n",
              "  <thead>\n",
              "    <tr style=\"text-align: right;\">\n",
              "      <th></th>\n",
              "      <th>School</th>\n",
              "      <th>County</th>\n",
              "      <th>Total_Cases</th>\n",
              "      <th>Students</th>\n",
              "      <th>Teachers</th>\n",
              "      <th>Staff</th>\n",
              "      <th>Unknown</th>\n",
              "      <th>School_County</th>\n",
              "    </tr>\n",
              "  </thead>\n",
              "  <tbody>\n",
              "    <tr>\n",
              "      <th>0</th>\n",
              "      <td>IRVING &amp; BEATRICE PESKOE K-8 CENTER</td>\n",
              "      <td>Dade</td>\n",
              "      <td>1</td>\n",
              "      <td>0</td>\n",
              "      <td>0</td>\n",
              "      <td>0</td>\n",
              "      <td>1</td>\n",
              "      <td>Irving &amp; Beatrice Peskoe K-8 Center (Dade Cou...</td>\n",
              "    </tr>\n",
              "    <tr>\n",
              "      <th>1</th>\n",
              "      <td>2010 E HILLSBOROUGH AVE,</td>\n",
              "      <td>Hillsborough</td>\n",
              "      <td>1</td>\n",
              "      <td>1</td>\n",
              "      <td>0</td>\n",
              "      <td>0</td>\n",
              "      <td>0</td>\n",
              "      <td>2010 E Hillsborough Ave, (Hillsborough County)</td>\n",
              "    </tr>\n",
              "    <tr>\n",
              "      <th>2</th>\n",
              "      <td>A BLESSED ACADEMY</td>\n",
              "      <td>Polk</td>\n",
              "      <td>1</td>\n",
              "      <td>1</td>\n",
              "      <td>0</td>\n",
              "      <td>0</td>\n",
              "      <td>0</td>\n",
              "      <td>A Blessed Academy (Polk County)</td>\n",
              "    </tr>\n",
              "    <tr>\n",
              "      <th>3</th>\n",
              "      <td>A CHILD'S PLACE MONTESSORI SCHOOL</td>\n",
              "      <td>Duval</td>\n",
              "      <td>2</td>\n",
              "      <td>2</td>\n",
              "      <td>0</td>\n",
              "      <td>0</td>\n",
              "      <td>0</td>\n",
              "      <td>A Child'S Place Montessori School (Duval County)</td>\n",
              "    </tr>\n",
              "    <tr>\n",
              "      <th>4</th>\n",
              "      <td>A E F SCHOOLS ALTERNATIVE EDU. FOUNDATION</td>\n",
              "      <td>Broward</td>\n",
              "      <td>3</td>\n",
              "      <td>0</td>\n",
              "      <td>1</td>\n",
              "      <td>2</td>\n",
              "      <td>0</td>\n",
              "      <td>A E F Schools Alternative Edu. Foundation (Bro...</td>\n",
              "    </tr>\n",
              "  </tbody>\n",
              "</table>\n",
              "</div>"
            ],
            "text/plain": [
              "                                      School  ...                                      School_County\n",
              "0        IRVING & BEATRICE PESKOE K-8 CENTER  ...   Irving & Beatrice Peskoe K-8 Center (Dade Cou...\n",
              "1                   2010 E HILLSBOROUGH AVE,  ...     2010 E Hillsborough Ave, (Hillsborough County)\n",
              "2                          A BLESSED ACADEMY  ...                    A Blessed Academy (Polk County)\n",
              "3          A CHILD'S PLACE MONTESSORI SCHOOL  ...   A Child'S Place Montessori School (Duval County)\n",
              "4  A E F SCHOOLS ALTERNATIVE EDU. FOUNDATION  ...  A E F Schools Alternative Edu. Foundation (Bro...\n",
              "\n",
              "[5 rows x 8 columns]"
            ]
          },
          "metadata": {
            "tags": []
          },
          "execution_count": 41
        }
      ]
    },
    {
      "cell_type": "markdown",
      "metadata": {
        "id": "e-QouRCkontI"
      },
      "source": [
        "### Convert df from wide to long using melt()"
      ]
    },
    {
      "cell_type": "code",
      "metadata": {
        "colab": {
          "base_uri": "https://localhost:8080/",
          "height": 196
        },
        "id": "x9v4Hxz4OXHs",
        "outputId": "e3ec1f87-7f49-4fc5-ee02-9c5d02032801"
      },
      "source": [
        "#wide to long\n",
        "df_long = df4.melt(id_vars=['School','County','School_County','Total_Cases'], \n",
        "                   var_name='Individual', \n",
        "                   value_name='pos_covid')\n",
        "df_long.sample(3)"
      ],
      "execution_count": null,
      "outputs": [
        {
          "output_type": "execute_result",
          "data": {
            "text/html": [
              "<div>\n",
              "<style scoped>\n",
              "    .dataframe tbody tr th:only-of-type {\n",
              "        vertical-align: middle;\n",
              "    }\n",
              "\n",
              "    .dataframe tbody tr th {\n",
              "        vertical-align: top;\n",
              "    }\n",
              "\n",
              "    .dataframe thead th {\n",
              "        text-align: right;\n",
              "    }\n",
              "</style>\n",
              "<table border=\"1\" class=\"dataframe\">\n",
              "  <thead>\n",
              "    <tr style=\"text-align: right;\">\n",
              "      <th></th>\n",
              "      <th>School</th>\n",
              "      <th>County</th>\n",
              "      <th>School_County</th>\n",
              "      <th>Total_Cases</th>\n",
              "      <th>Individual</th>\n",
              "      <th>pos_covid</th>\n",
              "    </tr>\n",
              "  </thead>\n",
              "  <tbody>\n",
              "    <tr>\n",
              "      <th>6492</th>\n",
              "      <td>BENNETT ELEMENTARY SCHOOL</td>\n",
              "      <td>Broward</td>\n",
              "      <td>Bennett Elementary School (Broward County)</td>\n",
              "      <td>22</td>\n",
              "      <td>Teachers</td>\n",
              "      <td>5</td>\n",
              "    </tr>\n",
              "    <tr>\n",
              "      <th>9414</th>\n",
              "      <td>MENI NINHO MENI NINHA INC</td>\n",
              "      <td>Dade</td>\n",
              "      <td>Meni Ninho Meni Ninha Inc (Dade County)</td>\n",
              "      <td>1</td>\n",
              "      <td>Teachers</td>\n",
              "      <td>0</td>\n",
              "    </tr>\n",
              "    <tr>\n",
              "      <th>2962</th>\n",
              "      <td>LEE ADOLESCENT MOTHERS PROGRAM</td>\n",
              "      <td>Lee</td>\n",
              "      <td>Lee Adolescent Mothers Program (Lee County)</td>\n",
              "      <td>3</td>\n",
              "      <td>Students</td>\n",
              "      <td>3</td>\n",
              "    </tr>\n",
              "  </tbody>\n",
              "</table>\n",
              "</div>"
            ],
            "text/plain": [
              "                              School   County  ... Individual pos_covid\n",
              "6492       BENNETT ELEMENTARY SCHOOL  Broward  ...   Teachers         5\n",
              "9414       MENI NINHO MENI NINHA INC     Dade  ...   Teachers         0\n",
              "2962  LEE ADOLESCENT MOTHERS PROGRAM      Lee  ...   Students         3\n",
              "\n",
              "[3 rows x 6 columns]"
            ]
          },
          "metadata": {
            "tags": []
          },
          "execution_count": 42
        }
      ]
    },
    {
      "cell_type": "markdown",
      "metadata": {
        "id": "5keXj7IFotDU"
      },
      "source": [
        "### Drop '_Total Cases_' col"
      ]
    },
    {
      "cell_type": "code",
      "metadata": {
        "colab": {
          "base_uri": "https://localhost:8080/",
          "height": 129
        },
        "id": "8dEKQ0QcQTMU",
        "outputId": "07c7853a-3592-426e-c563-1e75c6c6ecfe"
      },
      "source": [
        "#collapse\n",
        "# Drop '_Total Cases_' col\n",
        "df_long2 = df_long.drop(columns='Total_Cases')\n",
        "df_long2.head(2)"
      ],
      "execution_count": null,
      "outputs": [
        {
          "output_type": "execute_result",
          "data": {
            "text/html": [
              "<div>\n",
              "<style scoped>\n",
              "    .dataframe tbody tr th:only-of-type {\n",
              "        vertical-align: middle;\n",
              "    }\n",
              "\n",
              "    .dataframe tbody tr th {\n",
              "        vertical-align: top;\n",
              "    }\n",
              "\n",
              "    .dataframe thead th {\n",
              "        text-align: right;\n",
              "    }\n",
              "</style>\n",
              "<table border=\"1\" class=\"dataframe\">\n",
              "  <thead>\n",
              "    <tr style=\"text-align: right;\">\n",
              "      <th></th>\n",
              "      <th>School</th>\n",
              "      <th>County</th>\n",
              "      <th>School_County</th>\n",
              "      <th>Individual</th>\n",
              "      <th>pos_covid</th>\n",
              "    </tr>\n",
              "  </thead>\n",
              "  <tbody>\n",
              "    <tr>\n",
              "      <th>0</th>\n",
              "      <td>IRVING &amp; BEATRICE PESKOE K-8 CENTER</td>\n",
              "      <td>Dade</td>\n",
              "      <td>Irving &amp; Beatrice Peskoe K-8 Center (Dade Cou...</td>\n",
              "      <td>Students</td>\n",
              "      <td>0</td>\n",
              "    </tr>\n",
              "    <tr>\n",
              "      <th>1</th>\n",
              "      <td>2010 E HILLSBOROUGH AVE,</td>\n",
              "      <td>Hillsborough</td>\n",
              "      <td>2010 E Hillsborough Ave, (Hillsborough County)</td>\n",
              "      <td>Students</td>\n",
              "      <td>1</td>\n",
              "    </tr>\n",
              "  </tbody>\n",
              "</table>\n",
              "</div>"
            ],
            "text/plain": [
              "                                 School        County  ... Individual pos_covid\n",
              "0   IRVING & BEATRICE PESKOE K-8 CENTER          Dade  ...   Students         0\n",
              "1              2010 E HILLSBOROUGH AVE,  Hillsborough  ...   Students         1\n",
              "\n",
              "[2 rows x 5 columns]"
            ]
          },
          "metadata": {
            "tags": []
          },
          "execution_count": 43
        }
      ]
    },
    {
      "cell_type": "markdown",
      "metadata": {
        "id": "JntVdcufo5oA"
      },
      "source": [
        "### Clean _'School'_ names.  \n",
        "\n",
        "Convert to title() case"
      ]
    },
    {
      "cell_type": "code",
      "metadata": {
        "colab": {
          "base_uri": "https://localhost:8080/",
          "height": 112
        },
        "id": "4KafaS3R4avA",
        "outputId": "3b5ebeec-a308-42f4-dc24-9d64ebdf3aad"
      },
      "source": [
        "#collapse-output\n",
        "#Title Case for Schools\n",
        "df_long2.School = df_long2.School.str.title()\n",
        "df_long2.head(2)"
      ],
      "execution_count": null,
      "outputs": [
        {
          "output_type": "execute_result",
          "data": {
            "text/html": [
              "<div>\n",
              "<style scoped>\n",
              "    .dataframe tbody tr th:only-of-type {\n",
              "        vertical-align: middle;\n",
              "    }\n",
              "\n",
              "    .dataframe tbody tr th {\n",
              "        vertical-align: top;\n",
              "    }\n",
              "\n",
              "    .dataframe thead th {\n",
              "        text-align: right;\n",
              "    }\n",
              "</style>\n",
              "<table border=\"1\" class=\"dataframe\">\n",
              "  <thead>\n",
              "    <tr style=\"text-align: right;\">\n",
              "      <th></th>\n",
              "      <th>School</th>\n",
              "      <th>County</th>\n",
              "      <th>School_County</th>\n",
              "      <th>Individual</th>\n",
              "      <th>pos_covid</th>\n",
              "    </tr>\n",
              "  </thead>\n",
              "  <tbody>\n",
              "    <tr>\n",
              "      <th>0</th>\n",
              "      <td>Irving &amp; Beatrice Peskoe K-8 Center</td>\n",
              "      <td>Dade</td>\n",
              "      <td>Irving &amp; Beatrice Peskoe K-8 Center (Dade Cou...</td>\n",
              "      <td>Students</td>\n",
              "      <td>0</td>\n",
              "    </tr>\n",
              "    <tr>\n",
              "      <th>1</th>\n",
              "      <td>2010 E Hillsborough Ave,</td>\n",
              "      <td>Hillsborough</td>\n",
              "      <td>2010 E Hillsborough Ave, (Hillsborough County)</td>\n",
              "      <td>Students</td>\n",
              "      <td>1</td>\n",
              "    </tr>\n",
              "  </tbody>\n",
              "</table>\n",
              "</div>"
            ],
            "text/plain": [
              "                                 School        County  ... Individual pos_covid\n",
              "0   Irving & Beatrice Peskoe K-8 Center          Dade  ...   Students         0\n",
              "1              2010 E Hillsborough Ave,  Hillsborough  ...   Students         1\n",
              "\n",
              "[2 rows x 5 columns]"
            ]
          },
          "metadata": {
            "tags": []
          },
          "execution_count": 44
        }
      ]
    },
    {
      "cell_type": "markdown",
      "metadata": {
        "id": "4Z0Q4mw7pYuo"
      },
      "source": [
        "### Label University/Colleges"
      ]
    },
    {
      "cell_type": "code",
      "metadata": {
        "colab": {
          "base_uri": "https://localhost:8080/",
          "height": 196
        },
        "id": "3dtc8Vto3vqw",
        "outputId": "8142dbc0-6da6-44e5-e8cc-306d7af5f863"
      },
      "source": [
        "#collapse\n",
        "#Label University/Colleges\n",
        "df_long2.loc[((df_long2.School.str.contains('University')==True) | (df_long2.School.str.contains('College')==True)) & \n",
        "         (df_long2.School.str.contains('Middle')==False) &\n",
        "         (df_long2.School.str.contains('Elementary')==False) & \n",
        "         (df_long2.School.str.contains('High')==False) & \n",
        "         (df_long2.School.str.contains('Academy')==False) & \n",
        "         (df_long2.School.str.contains('Charter')==False) &\n",
        "         (df_long2.School.str.contains('Prep')==False) & \n",
        "         (df_long2.School.str.contains('Preparatory')==False) &\n",
        "         (df_long2.School.str.contains('1st College')==False) & \n",
        "         (df_long2.School.str.contains('Kids')==False) &\n",
        "         (df_long2.School.str.contains('Little College')==False), 'School_Type'] = 'University/College'\n",
        "\n",
        "df_long2[df_long2['School'].str.contains('Uni')].sample(3)"
      ],
      "execution_count": null,
      "outputs": [
        {
          "output_type": "execute_result",
          "data": {
            "text/html": [
              "<div>\n",
              "<style scoped>\n",
              "    .dataframe tbody tr th:only-of-type {\n",
              "        vertical-align: middle;\n",
              "    }\n",
              "\n",
              "    .dataframe tbody tr th {\n",
              "        vertical-align: top;\n",
              "    }\n",
              "\n",
              "    .dataframe thead th {\n",
              "        text-align: right;\n",
              "    }\n",
              "</style>\n",
              "<table border=\"1\" class=\"dataframe\">\n",
              "  <thead>\n",
              "    <tr style=\"text-align: right;\">\n",
              "      <th></th>\n",
              "      <th>School</th>\n",
              "      <th>County</th>\n",
              "      <th>School_County</th>\n",
              "      <th>Individual</th>\n",
              "      <th>pos_covid</th>\n",
              "      <th>School_Type</th>\n",
              "    </tr>\n",
              "  </thead>\n",
              "  <tbody>\n",
              "    <tr>\n",
              "      <th>1718</th>\n",
              "      <td>First United Methodist School</td>\n",
              "      <td>Okaloosa</td>\n",
              "      <td>First United Methodist School (Okaloosa County)</td>\n",
              "      <td>Students</td>\n",
              "      <td>0</td>\n",
              "      <td>NaN</td>\n",
              "    </tr>\n",
              "    <tr>\n",
              "      <th>5646</th>\n",
              "      <td>University Of South Florida- St. Petersburg</td>\n",
              "      <td>Pinellas</td>\n",
              "      <td>University Of South Florida- St. Petersburg (P...</td>\n",
              "      <td>Students</td>\n",
              "      <td>14</td>\n",
              "      <td>University/College</td>\n",
              "    </tr>\n",
              "    <tr>\n",
              "      <th>9222</th>\n",
              "      <td>Lynn University</td>\n",
              "      <td>Palm Beach</td>\n",
              "      <td>Lynn University (Palm Beach County)</td>\n",
              "      <td>Teachers</td>\n",
              "      <td>0</td>\n",
              "      <td>University/College</td>\n",
              "    </tr>\n",
              "  </tbody>\n",
              "</table>\n",
              "</div>"
            ],
            "text/plain": [
              "                                           School  ...         School_Type\n",
              "1718                First United Methodist School  ...                 NaN\n",
              "5646  University Of South Florida- St. Petersburg  ...  University/College\n",
              "9222                              Lynn University  ...  University/College\n",
              "\n",
              "[3 rows x 6 columns]"
            ]
          },
          "metadata": {
            "tags": []
          },
          "execution_count": 46
        }
      ]
    },
    {
      "cell_type": "markdown",
      "metadata": {
        "id": "XAW3ZTESpe58"
      },
      "source": [
        "### Label High Schools"
      ]
    },
    {
      "cell_type": "code",
      "metadata": {
        "colab": {
          "base_uri": "https://localhost:8080/",
          "height": 178
        },
        "id": "AwAVNmUt3yKc",
        "outputId": "3d53c3a0-152c-4bf1-bb06-c44d90ff809a"
      },
      "source": [
        "#collapse\n",
        "#Label High Schools\n",
        "df_long2.loc[((df_long2.School.str.contains('High')==True) | (df_long2.School.str.contains('Hs')==True)) & \n",
        "                       (df_long2.School.str.contains('Middle')==False) &\n",
        "                       (df_long2.School.str.contains('Elementary')==False) & \n",
        "                       (df_long2.School.str.contains('Adult')==False),'School_Type'] = 'High School'\n",
        "\n",
        "df_long2[df_long2['School'].str.contains('High')].sample(3)"
      ],
      "execution_count": null,
      "outputs": [
        {
          "output_type": "execute_result",
          "data": {
            "text/html": [
              "<div>\n",
              "<style scoped>\n",
              "    .dataframe tbody tr th:only-of-type {\n",
              "        vertical-align: middle;\n",
              "    }\n",
              "\n",
              "    .dataframe tbody tr th {\n",
              "        vertical-align: top;\n",
              "    }\n",
              "\n",
              "    .dataframe thead th {\n",
              "        text-align: right;\n",
              "    }\n",
              "</style>\n",
              "<table border=\"1\" class=\"dataframe\">\n",
              "  <thead>\n",
              "    <tr style=\"text-align: right;\">\n",
              "      <th></th>\n",
              "      <th>School</th>\n",
              "      <th>County</th>\n",
              "      <th>School_County</th>\n",
              "      <th>Individual</th>\n",
              "      <th>pos_covid</th>\n",
              "      <th>School_Type</th>\n",
              "    </tr>\n",
              "  </thead>\n",
              "  <tbody>\n",
              "    <tr>\n",
              "      <th>21009</th>\n",
              "      <td>Lake Highland Preparatory School</td>\n",
              "      <td>Orange</td>\n",
              "      <td>Lake Highland Preparatory School (Orange County)</td>\n",
              "      <td>Unknown</td>\n",
              "      <td>2</td>\n",
              "      <td>High School</td>\n",
              "    </tr>\n",
              "    <tr>\n",
              "      <th>15033</th>\n",
              "      <td>Land O' Lakes High Adult Education</td>\n",
              "      <td>Pasco</td>\n",
              "      <td>Land O' Lakes High Adult Education (Pasco County)</td>\n",
              "      <td>Staff</td>\n",
              "      <td>0</td>\n",
              "      <td>NaN</td>\n",
              "    </tr>\n",
              "    <tr>\n",
              "      <th>18987</th>\n",
              "      <td>Central High School</td>\n",
              "      <td>Hernando</td>\n",
              "      <td>Central High School (Hernando County)</td>\n",
              "      <td>Unknown</td>\n",
              "      <td>1</td>\n",
              "      <td>High School</td>\n",
              "    </tr>\n",
              "  </tbody>\n",
              "</table>\n",
              "</div>"
            ],
            "text/plain": [
              "                                   School    County  ... pos_covid  School_Type\n",
              "21009    Lake Highland Preparatory School    Orange  ...         2  High School\n",
              "15033  Land O' Lakes High Adult Education     Pasco  ...         0          NaN\n",
              "18987                 Central High School  Hernando  ...         1  High School\n",
              "\n",
              "[3 rows x 6 columns]"
            ]
          },
          "metadata": {
            "tags": []
          },
          "execution_count": 47
        }
      ]
    },
    {
      "cell_type": "markdown",
      "metadata": {
        "id": "M5snHzl9phOY"
      },
      "source": [
        "### Label Middle Schools"
      ]
    },
    {
      "cell_type": "code",
      "metadata": {
        "colab": {
          "base_uri": "https://localhost:8080/",
          "height": 178
        },
        "id": "-aBouWB2ROq4",
        "outputId": "e3524016-052c-48d0-d90c-0585fed9a676"
      },
      "source": [
        "#collapse\n",
        "#Identify Middle Schools\n",
        "\n",
        "df_long2.loc[(df_long2.School.str.contains('High')==False) & \n",
        "                       (df_long2.School.str.contains('Middle')==True) &\n",
        "                       (df_long2.School.str.contains('Elementary')==False) & \n",
        "                       (df_long2.School.str.contains('Adult')==False),'School_Type'] = 'Middle School'\n",
        "\n",
        "df_long2[df_long2['School'].str.contains('Middle')].sample(3)"
      ],
      "execution_count": null,
      "outputs": [
        {
          "output_type": "execute_result",
          "data": {
            "text/html": [
              "<div>\n",
              "<style scoped>\n",
              "    .dataframe tbody tr th:only-of-type {\n",
              "        vertical-align: middle;\n",
              "    }\n",
              "\n",
              "    .dataframe tbody tr th {\n",
              "        vertical-align: top;\n",
              "    }\n",
              "\n",
              "    .dataframe thead th {\n",
              "        text-align: right;\n",
              "    }\n",
              "</style>\n",
              "<table border=\"1\" class=\"dataframe\">\n",
              "  <thead>\n",
              "    <tr style=\"text-align: right;\">\n",
              "      <th></th>\n",
              "      <th>School</th>\n",
              "      <th>County</th>\n",
              "      <th>School_County</th>\n",
              "      <th>Individual</th>\n",
              "      <th>pos_covid</th>\n",
              "      <th>School_Type</th>\n",
              "    </tr>\n",
              "  </thead>\n",
              "  <tbody>\n",
              "    <tr>\n",
              "      <th>1526</th>\n",
              "      <td>Eisenhower Middle School</td>\n",
              "      <td>Hillsborough</td>\n",
              "      <td>Eisenhower Middle School (Hillsborough County)</td>\n",
              "      <td>Students</td>\n",
              "      <td>21</td>\n",
              "      <td>Middle School</td>\n",
              "    </tr>\n",
              "    <tr>\n",
              "      <th>16696</th>\n",
              "      <td>Ruben Dario Middle School</td>\n",
              "      <td>Dade</td>\n",
              "      <td>Ruben Dario Middle School (Dade County)</td>\n",
              "      <td>Staff</td>\n",
              "      <td>0</td>\n",
              "      <td>Middle School</td>\n",
              "    </tr>\n",
              "    <tr>\n",
              "      <th>16010</th>\n",
              "      <td>Osceola Middle School</td>\n",
              "      <td>Marion</td>\n",
              "      <td>Osceola Middle School (Marion County)</td>\n",
              "      <td>Staff</td>\n",
              "      <td>6</td>\n",
              "      <td>Middle School</td>\n",
              "    </tr>\n",
              "  </tbody>\n",
              "</table>\n",
              "</div>"
            ],
            "text/plain": [
              "                          School        County  ... pos_covid    School_Type\n",
              "1526    Eisenhower Middle School  Hillsborough  ...        21  Middle School\n",
              "16696  Ruben Dario Middle School          Dade  ...         0  Middle School\n",
              "16010      Osceola Middle School        Marion  ...         6  Middle School\n",
              "\n",
              "[3 rows x 6 columns]"
            ]
          },
          "metadata": {
            "tags": []
          },
          "execution_count": 48
        }
      ]
    },
    {
      "cell_type": "markdown",
      "metadata": {
        "id": "xGEH4kFlpjQE"
      },
      "source": [
        "### Label Elementary "
      ]
    },
    {
      "cell_type": "code",
      "metadata": {
        "colab": {
          "base_uri": "https://localhost:8080/",
          "height": 196
        },
        "id": "LfHt52b-Rb1E",
        "outputId": "964f1470-5f19-4ad9-ae40-0f8bfe8fae1f"
      },
      "source": [
        "#collapse\n",
        "#identify Elementary Schools\n",
        "#some elementary schools have 'University' or 'College' in their names\n",
        "\n",
        "df_long2.loc[(df_long2.School.str.contains('High')==False) & \n",
        "                       (df_long2.School.str.contains('Middle')==False) &\n",
        "                       (df_long2.School.str.contains('Elementary')==True) & \n",
        "                       (df_long2.School.str.contains('Adult')==False),'School_Type'] = \"Elementary School\"\n",
        "\n",
        "df_long2[df_long2['School'].str.contains('Elem')].sample(3)"
      ],
      "execution_count": null,
      "outputs": [
        {
          "output_type": "execute_result",
          "data": {
            "text/html": [
              "<div>\n",
              "<style scoped>\n",
              "    .dataframe tbody tr th:only-of-type {\n",
              "        vertical-align: middle;\n",
              "    }\n",
              "\n",
              "    .dataframe tbody tr th {\n",
              "        vertical-align: top;\n",
              "    }\n",
              "\n",
              "    .dataframe thead th {\n",
              "        text-align: right;\n",
              "    }\n",
              "</style>\n",
              "<table border=\"1\" class=\"dataframe\">\n",
              "  <thead>\n",
              "    <tr style=\"text-align: right;\">\n",
              "      <th></th>\n",
              "      <th>School</th>\n",
              "      <th>County</th>\n",
              "      <th>School_County</th>\n",
              "      <th>Individual</th>\n",
              "      <th>pos_covid</th>\n",
              "      <th>School_Type</th>\n",
              "    </tr>\n",
              "  </thead>\n",
              "  <tbody>\n",
              "    <tr>\n",
              "      <th>1591</th>\n",
              "      <td>Estates Elementary School</td>\n",
              "      <td>Collier</td>\n",
              "      <td>Estates Elementary School (Collier County)</td>\n",
              "      <td>Students</td>\n",
              "      <td>25</td>\n",
              "      <td>Elementary School</td>\n",
              "    </tr>\n",
              "    <tr>\n",
              "      <th>3460</th>\n",
              "      <td>Molino Park Elementary</td>\n",
              "      <td>Escambia</td>\n",
              "      <td>Molino Park Elementary (Escambia County)</td>\n",
              "      <td>Students</td>\n",
              "      <td>4</td>\n",
              "      <td>Elementary School</td>\n",
              "    </tr>\n",
              "    <tr>\n",
              "      <th>20557</th>\n",
              "      <td>Howard Drive Elementary School</td>\n",
              "      <td>Dade</td>\n",
              "      <td>Howard Drive Elementary School (Dade County)</td>\n",
              "      <td>Unknown</td>\n",
              "      <td>2</td>\n",
              "      <td>Elementary School</td>\n",
              "    </tr>\n",
              "  </tbody>\n",
              "</table>\n",
              "</div>"
            ],
            "text/plain": [
              "                               School    County  ... pos_covid        School_Type\n",
              "1591        Estates Elementary School   Collier  ...        25  Elementary School\n",
              "3460           Molino Park Elementary  Escambia  ...         4  Elementary School\n",
              "20557  Howard Drive Elementary School      Dade  ...         2  Elementary School\n",
              "\n",
              "[3 rows x 6 columns]"
            ]
          },
          "metadata": {
            "tags": []
          },
          "execution_count": 49
        }
      ]
    },
    {
      "cell_type": "markdown",
      "metadata": {
        "id": "GRQND-pupmIc"
      },
      "source": [
        "### Label unknown schools a 'Other'"
      ]
    },
    {
      "cell_type": "code",
      "metadata": {
        "colab": {
          "base_uri": "https://localhost:8080/",
          "height": 300
        },
        "id": "UvQp2oRnCSO8",
        "outputId": "44490a0b-778f-4581-911b-24c9063b8537"
      },
      "source": [
        "#collapse\n",
        "df_long2.loc[df_long2.School_Type.isna(),'School_Type'] = 'No Label'\n",
        "df_long2[df_long2['School'].str.contains('Hs')]"
      ],
      "execution_count": null,
      "outputs": [
        {
          "output_type": "execute_result",
          "data": {
            "text/html": [
              "<div>\n",
              "<style scoped>\n",
              "    .dataframe tbody tr th:only-of-type {\n",
              "        vertical-align: middle;\n",
              "    }\n",
              "\n",
              "    .dataframe tbody tr th {\n",
              "        vertical-align: top;\n",
              "    }\n",
              "\n",
              "    .dataframe thead th {\n",
              "        text-align: right;\n",
              "    }\n",
              "</style>\n",
              "<table border=\"1\" class=\"dataframe\">\n",
              "  <thead>\n",
              "    <tr style=\"text-align: right;\">\n",
              "      <th></th>\n",
              "      <th>School</th>\n",
              "      <th>County</th>\n",
              "      <th>School_County</th>\n",
              "      <th>Individual</th>\n",
              "      <th>pos_covid</th>\n",
              "      <th>School_Type</th>\n",
              "    </tr>\n",
              "  </thead>\n",
              "  <tbody>\n",
              "    <tr>\n",
              "      <th>565</th>\n",
              "      <td>Brandon Hs</td>\n",
              "      <td>Hillsborough</td>\n",
              "      <td>Brandon Hs (Hillsborough County)</td>\n",
              "      <td>Students</td>\n",
              "      <td>1</td>\n",
              "      <td>High School</td>\n",
              "    </tr>\n",
              "    <tr>\n",
              "      <th>2629</th>\n",
              "      <td>Jp Taravella Hs</td>\n",
              "      <td>Broward</td>\n",
              "      <td>Jp Taravella Hs (Broward County)</td>\n",
              "      <td>Students</td>\n",
              "      <td>0</td>\n",
              "      <td>High School</td>\n",
              "    </tr>\n",
              "    <tr>\n",
              "      <th>6629</th>\n",
              "      <td>Brandon Hs</td>\n",
              "      <td>Hillsborough</td>\n",
              "      <td>Brandon Hs (Hillsborough County)</td>\n",
              "      <td>Teachers</td>\n",
              "      <td>0</td>\n",
              "      <td>High School</td>\n",
              "    </tr>\n",
              "    <tr>\n",
              "      <th>8693</th>\n",
              "      <td>Jp Taravella Hs</td>\n",
              "      <td>Broward</td>\n",
              "      <td>Jp Taravella Hs (Broward County)</td>\n",
              "      <td>Teachers</td>\n",
              "      <td>0</td>\n",
              "      <td>High School</td>\n",
              "    </tr>\n",
              "    <tr>\n",
              "      <th>12693</th>\n",
              "      <td>Brandon Hs</td>\n",
              "      <td>Hillsborough</td>\n",
              "      <td>Brandon Hs (Hillsborough County)</td>\n",
              "      <td>Staff</td>\n",
              "      <td>0</td>\n",
              "      <td>High School</td>\n",
              "    </tr>\n",
              "    <tr>\n",
              "      <th>14757</th>\n",
              "      <td>Jp Taravella Hs</td>\n",
              "      <td>Broward</td>\n",
              "      <td>Jp Taravella Hs (Broward County)</td>\n",
              "      <td>Staff</td>\n",
              "      <td>0</td>\n",
              "      <td>High School</td>\n",
              "    </tr>\n",
              "    <tr>\n",
              "      <th>18757</th>\n",
              "      <td>Brandon Hs</td>\n",
              "      <td>Hillsborough</td>\n",
              "      <td>Brandon Hs (Hillsborough County)</td>\n",
              "      <td>Unknown</td>\n",
              "      <td>0</td>\n",
              "      <td>High School</td>\n",
              "    </tr>\n",
              "    <tr>\n",
              "      <th>20821</th>\n",
              "      <td>Jp Taravella Hs</td>\n",
              "      <td>Broward</td>\n",
              "      <td>Jp Taravella Hs (Broward County)</td>\n",
              "      <td>Unknown</td>\n",
              "      <td>1</td>\n",
              "      <td>High School</td>\n",
              "    </tr>\n",
              "  </tbody>\n",
              "</table>\n",
              "</div>"
            ],
            "text/plain": [
              "                School        County  ... pos_covid  School_Type\n",
              "565         Brandon Hs  Hillsborough  ...         1  High School\n",
              "2629   Jp Taravella Hs       Broward  ...         0  High School\n",
              "6629        Brandon Hs  Hillsborough  ...         0  High School\n",
              "8693   Jp Taravella Hs       Broward  ...         0  High School\n",
              "12693       Brandon Hs  Hillsborough  ...         0  High School\n",
              "14757  Jp Taravella Hs       Broward  ...         0  High School\n",
              "18757       Brandon Hs  Hillsborough  ...         0  High School\n",
              "20821  Jp Taravella Hs       Broward  ...         1  High School\n",
              "\n",
              "[8 rows x 6 columns]"
            ]
          },
          "metadata": {
            "tags": []
          },
          "execution_count": 50
        }
      ]
    },
    {
      "cell_type": "markdown",
      "metadata": {
        "id": "qjx74cqsqOlg"
      },
      "source": [
        "### Change dtype of pos_covid to 'int'"
      ]
    },
    {
      "cell_type": "code",
      "metadata": {
        "colab": {
          "base_uri": "https://localhost:8080/"
        },
        "id": "6pAU1n277X4A",
        "outputId": "0fadef8d-9b61-4a07-a8a5-5d136fd55204"
      },
      "source": [
        "#collapse-output\n",
        "#Change dtype of pos_covid to 'int'\n",
        "df_long2.pos_covid = df_long2.pos_covid.str.replace(',','').astype('int')\n",
        "df_long2.info()"
      ],
      "execution_count": null,
      "outputs": [
        {
          "output_type": "stream",
          "text": [
            "<class 'pandas.core.frame.DataFrame'>\n",
            "RangeIndex: 24256 entries, 0 to 24255\n",
            "Data columns (total 6 columns):\n",
            " #   Column         Non-Null Count  Dtype \n",
            "---  ------         --------------  ----- \n",
            " 0   School         24256 non-null  object\n",
            " 1   County         24256 non-null  object\n",
            " 2   School_County  24256 non-null  object\n",
            " 3   Individual     24256 non-null  object\n",
            " 4   pos_covid      24256 non-null  int64 \n",
            " 5   School_Type    24256 non-null  object\n",
            "dtypes: int64(1), object(5)\n",
            "memory usage: 1.1+ MB\n"
          ],
          "name": "stdout"
        }
      ]
    },
    {
      "cell_type": "markdown",
      "metadata": {
        "id": "dSdZQedsjmUY"
      },
      "source": [
        "## __Data Analysis__"
      ]
    },
    {
      "cell_type": "markdown",
      "metadata": {
        "id": "s1zoEfFnsUJ8"
      },
      "source": [
        "### Groupby school type"
      ]
    },
    {
      "cell_type": "code",
      "metadata": {
        "colab": {
          "base_uri": "https://localhost:8080/",
          "height": 238
        },
        "id": "lkAACJ60DZDc",
        "outputId": "2fc7fec7-59da-4226-9d12-adbc5273635f"
      },
      "source": [
        "#collapse\n",
        "#grouby school type\n",
        "df_long2.groupby('School_Type').count()"
      ],
      "execution_count": null,
      "outputs": [
        {
          "output_type": "execute_result",
          "data": {
            "text/html": [
              "<div>\n",
              "<style scoped>\n",
              "    .dataframe tbody tr th:only-of-type {\n",
              "        vertical-align: middle;\n",
              "    }\n",
              "\n",
              "    .dataframe tbody tr th {\n",
              "        vertical-align: top;\n",
              "    }\n",
              "\n",
              "    .dataframe thead th {\n",
              "        text-align: right;\n",
              "    }\n",
              "</style>\n",
              "<table border=\"1\" class=\"dataframe\">\n",
              "  <thead>\n",
              "    <tr style=\"text-align: right;\">\n",
              "      <th></th>\n",
              "      <th>School</th>\n",
              "      <th>County</th>\n",
              "      <th>School_County</th>\n",
              "      <th>Individual</th>\n",
              "      <th>pos_covid</th>\n",
              "    </tr>\n",
              "    <tr>\n",
              "      <th>School_Type</th>\n",
              "      <th></th>\n",
              "      <th></th>\n",
              "      <th></th>\n",
              "      <th></th>\n",
              "      <th></th>\n",
              "    </tr>\n",
              "  </thead>\n",
              "  <tbody>\n",
              "    <tr>\n",
              "      <th>Elementary School</th>\n",
              "      <td>6748</td>\n",
              "      <td>6748</td>\n",
              "      <td>6748</td>\n",
              "      <td>6748</td>\n",
              "      <td>6748</td>\n",
              "    </tr>\n",
              "    <tr>\n",
              "      <th>High School</th>\n",
              "      <td>2536</td>\n",
              "      <td>2536</td>\n",
              "      <td>2536</td>\n",
              "      <td>2536</td>\n",
              "      <td>2536</td>\n",
              "    </tr>\n",
              "    <tr>\n",
              "      <th>Middle School</th>\n",
              "      <td>2236</td>\n",
              "      <td>2236</td>\n",
              "      <td>2236</td>\n",
              "      <td>2236</td>\n",
              "      <td>2236</td>\n",
              "    </tr>\n",
              "    <tr>\n",
              "      <th>No Label</th>\n",
              "      <td>11564</td>\n",
              "      <td>11564</td>\n",
              "      <td>11564</td>\n",
              "      <td>11564</td>\n",
              "      <td>11564</td>\n",
              "    </tr>\n",
              "    <tr>\n",
              "      <th>University/College</th>\n",
              "      <td>1172</td>\n",
              "      <td>1172</td>\n",
              "      <td>1172</td>\n",
              "      <td>1172</td>\n",
              "      <td>1172</td>\n",
              "    </tr>\n",
              "  </tbody>\n",
              "</table>\n",
              "</div>"
            ],
            "text/plain": [
              "                    School  County  School_County  Individual  pos_covid\n",
              "School_Type                                                             \n",
              "Elementary School     6748    6748           6748        6748       6748\n",
              "High School           2536    2536           2536        2536       2536\n",
              "Middle School         2236    2236           2236        2236       2236\n",
              "No Label             11564   11564          11564       11564      11564\n",
              "University/College    1172    1172           1172        1172       1172"
            ]
          },
          "metadata": {
            "tags": []
          },
          "execution_count": 51
        }
      ]
    },
    {
      "cell_type": "markdown",
      "metadata": {
        "id": "7U6C4B1gsX9s"
      },
      "source": [
        "### Groupby School Type and Individuals"
      ]
    },
    {
      "cell_type": "code",
      "metadata": {
        "colab": {
          "base_uri": "https://localhost:8080/",
          "height": 677
        },
        "id": "uv_RC3dI8Hgc",
        "outputId": "9ce48911-f96b-4b0d-b5c0-91058acbaf84"
      },
      "source": [
        "#collapse\n",
        "df_long2.groupby(['School_Type','Individual'])['pos_covid'].sum().to_frame().reset_index()."
      ],
      "execution_count": null,
      "outputs": [
        {
          "output_type": "execute_result",
          "data": {
            "text/html": [
              "<div>\n",
              "<style scoped>\n",
              "    .dataframe tbody tr th:only-of-type {\n",
              "        vertical-align: middle;\n",
              "    }\n",
              "\n",
              "    .dataframe tbody tr th {\n",
              "        vertical-align: top;\n",
              "    }\n",
              "\n",
              "    .dataframe thead th {\n",
              "        text-align: right;\n",
              "    }\n",
              "</style>\n",
              "<table border=\"1\" class=\"dataframe\">\n",
              "  <thead>\n",
              "    <tr style=\"text-align: right;\">\n",
              "      <th></th>\n",
              "      <th>School_Type</th>\n",
              "      <th>Individual</th>\n",
              "      <th>pos_covid</th>\n",
              "    </tr>\n",
              "  </thead>\n",
              "  <tbody>\n",
              "    <tr>\n",
              "      <th>0</th>\n",
              "      <td>Elementary School</td>\n",
              "      <td>Staff</td>\n",
              "      <td>1978</td>\n",
              "    </tr>\n",
              "    <tr>\n",
              "      <th>1</th>\n",
              "      <td>Elementary School</td>\n",
              "      <td>Students</td>\n",
              "      <td>23831</td>\n",
              "    </tr>\n",
              "    <tr>\n",
              "      <th>2</th>\n",
              "      <td>Elementary School</td>\n",
              "      <td>Teachers</td>\n",
              "      <td>3300</td>\n",
              "    </tr>\n",
              "    <tr>\n",
              "      <th>3</th>\n",
              "      <td>Elementary School</td>\n",
              "      <td>Unknown</td>\n",
              "      <td>3763</td>\n",
              "    </tr>\n",
              "    <tr>\n",
              "      <th>4</th>\n",
              "      <td>High School</td>\n",
              "      <td>Staff</td>\n",
              "      <td>1161</td>\n",
              "    </tr>\n",
              "    <tr>\n",
              "      <th>5</th>\n",
              "      <td>High School</td>\n",
              "      <td>Students</td>\n",
              "      <td>29353</td>\n",
              "    </tr>\n",
              "    <tr>\n",
              "      <th>6</th>\n",
              "      <td>High School</td>\n",
              "      <td>Teachers</td>\n",
              "      <td>1491</td>\n",
              "    </tr>\n",
              "    <tr>\n",
              "      <th>7</th>\n",
              "      <td>High School</td>\n",
              "      <td>Unknown</td>\n",
              "      <td>1962</td>\n",
              "    </tr>\n",
              "    <tr>\n",
              "      <th>8</th>\n",
              "      <td>Middle School</td>\n",
              "      <td>Staff</td>\n",
              "      <td>720</td>\n",
              "    </tr>\n",
              "    <tr>\n",
              "      <th>9</th>\n",
              "      <td>Middle School</td>\n",
              "      <td>Students</td>\n",
              "      <td>13081</td>\n",
              "    </tr>\n",
              "    <tr>\n",
              "      <th>10</th>\n",
              "      <td>Middle School</td>\n",
              "      <td>Teachers</td>\n",
              "      <td>1057</td>\n",
              "    </tr>\n",
              "    <tr>\n",
              "      <th>11</th>\n",
              "      <td>Middle School</td>\n",
              "      <td>Unknown</td>\n",
              "      <td>1248</td>\n",
              "    </tr>\n",
              "    <tr>\n",
              "      <th>12</th>\n",
              "      <td>No Label</td>\n",
              "      <td>Staff</td>\n",
              "      <td>1680</td>\n",
              "    </tr>\n",
              "    <tr>\n",
              "      <th>13</th>\n",
              "      <td>No Label</td>\n",
              "      <td>Students</td>\n",
              "      <td>25826</td>\n",
              "    </tr>\n",
              "    <tr>\n",
              "      <th>14</th>\n",
              "      <td>No Label</td>\n",
              "      <td>Teachers</td>\n",
              "      <td>2515</td>\n",
              "    </tr>\n",
              "    <tr>\n",
              "      <th>15</th>\n",
              "      <td>No Label</td>\n",
              "      <td>Unknown</td>\n",
              "      <td>3307</td>\n",
              "    </tr>\n",
              "    <tr>\n",
              "      <th>16</th>\n",
              "      <td>University/College</td>\n",
              "      <td>Staff</td>\n",
              "      <td>1308</td>\n",
              "    </tr>\n",
              "    <tr>\n",
              "      <th>17</th>\n",
              "      <td>University/College</td>\n",
              "      <td>Students</td>\n",
              "      <td>19201</td>\n",
              "    </tr>\n",
              "    <tr>\n",
              "      <th>18</th>\n",
              "      <td>University/College</td>\n",
              "      <td>Teachers</td>\n",
              "      <td>286</td>\n",
              "    </tr>\n",
              "    <tr>\n",
              "      <th>19</th>\n",
              "      <td>University/College</td>\n",
              "      <td>Unknown</td>\n",
              "      <td>1313</td>\n",
              "    </tr>\n",
              "  </tbody>\n",
              "</table>\n",
              "</div>"
            ],
            "text/plain": [
              "           School_Type Individual  pos_covid\n",
              "0    Elementary School      Staff       1978\n",
              "1    Elementary School   Students      23831\n",
              "2    Elementary School   Teachers       3300\n",
              "3    Elementary School    Unknown       3763\n",
              "4          High School      Staff       1161\n",
              "5          High School   Students      29353\n",
              "6          High School   Teachers       1491\n",
              "7          High School    Unknown       1962\n",
              "8        Middle School      Staff        720\n",
              "9        Middle School   Students      13081\n",
              "10       Middle School   Teachers       1057\n",
              "11       Middle School    Unknown       1248\n",
              "12            No Label      Staff       1680\n",
              "13            No Label   Students      25826\n",
              "14            No Label   Teachers       2515\n",
              "15            No Label    Unknown       3307\n",
              "16  University/College      Staff       1308\n",
              "17  University/College   Students      19201\n",
              "18  University/College   Teachers        286\n",
              "19  University/College    Unknown       1313"
            ]
          },
          "metadata": {
            "tags": []
          },
          "execution_count": 53
        }
      ]
    },
    {
      "cell_type": "markdown",
      "metadata": {
        "id": "9xWR8Uiiscbo"
      },
      "source": [
        "### Groupby County and Positive Covid Cases"
      ]
    },
    {
      "cell_type": "code",
      "metadata": {
        "colab": {
          "base_uri": "https://localhost:8080/",
          "height": 520
        },
        "id": "jl3_xJW3RZQA",
        "outputId": "893ba257-8f3f-4ddb-b32d-b5cd74c8a32f"
      },
      "source": [
        "#collapse\n",
        "# groupby county and postive covid cases\n",
        "df_long2.groupby('County')['pos_covid'].sum().to_frame().reset_index().sort_values(by='pos_covid',ascending=False).head(15)"
      ],
      "execution_count": null,
      "outputs": [
        {
          "output_type": "execute_result",
          "data": {
            "text/html": [
              "<div>\n",
              "<style scoped>\n",
              "    .dataframe tbody tr th:only-of-type {\n",
              "        vertical-align: middle;\n",
              "    }\n",
              "\n",
              "    .dataframe tbody tr th {\n",
              "        vertical-align: top;\n",
              "    }\n",
              "\n",
              "    .dataframe thead th {\n",
              "        text-align: right;\n",
              "    }\n",
              "</style>\n",
              "<table border=\"1\" class=\"dataframe\">\n",
              "  <thead>\n",
              "    <tr style=\"text-align: right;\">\n",
              "      <th></th>\n",
              "      <th>County</th>\n",
              "      <th>pos_covid</th>\n",
              "    </tr>\n",
              "  </thead>\n",
              "  <tbody>\n",
              "    <tr>\n",
              "      <th>12</th>\n",
              "      <td>Dade</td>\n",
              "      <td>16672</td>\n",
              "    </tr>\n",
              "    <tr>\n",
              "      <th>5</th>\n",
              "      <td>Broward</td>\n",
              "      <td>10523</td>\n",
              "    </tr>\n",
              "    <tr>\n",
              "      <th>28</th>\n",
              "      <td>Hillsborough</td>\n",
              "      <td>10268</td>\n",
              "    </tr>\n",
              "    <tr>\n",
              "      <th>49</th>\n",
              "      <td>Palm Beach</td>\n",
              "      <td>8801</td>\n",
              "    </tr>\n",
              "    <tr>\n",
              "      <th>47</th>\n",
              "      <td>Orange</td>\n",
              "      <td>8610</td>\n",
              "    </tr>\n",
              "    <tr>\n",
              "      <th>36</th>\n",
              "      <td>Leon</td>\n",
              "      <td>6139</td>\n",
              "    </tr>\n",
              "    <tr>\n",
              "      <th>35</th>\n",
              "      <td>Lee</td>\n",
              "      <td>5588</td>\n",
              "    </tr>\n",
              "    <tr>\n",
              "      <th>52</th>\n",
              "      <td>Polk</td>\n",
              "      <td>5524</td>\n",
              "    </tr>\n",
              "    <tr>\n",
              "      <th>15</th>\n",
              "      <td>Duval</td>\n",
              "      <td>4996</td>\n",
              "    </tr>\n",
              "    <tr>\n",
              "      <th>51</th>\n",
              "      <td>Pinellas</td>\n",
              "      <td>4712</td>\n",
              "    </tr>\n",
              "    <tr>\n",
              "      <th>50</th>\n",
              "      <td>Pasco</td>\n",
              "      <td>4541</td>\n",
              "    </tr>\n",
              "    <tr>\n",
              "      <th>0</th>\n",
              "      <td>Alachua</td>\n",
              "      <td>4504</td>\n",
              "    </tr>\n",
              "    <tr>\n",
              "      <th>63</th>\n",
              "      <td>Volusia</td>\n",
              "      <td>3450</td>\n",
              "    </tr>\n",
              "    <tr>\n",
              "      <th>4</th>\n",
              "      <td>Brevard</td>\n",
              "      <td>3137</td>\n",
              "    </tr>\n",
              "    <tr>\n",
              "      <th>56</th>\n",
              "      <td>Seminole</td>\n",
              "      <td>2675</td>\n",
              "    </tr>\n",
              "  </tbody>\n",
              "</table>\n",
              "</div>"
            ],
            "text/plain": [
              "          County  pos_covid\n",
              "12          Dade      16672\n",
              "5        Broward      10523\n",
              "28  Hillsborough      10268\n",
              "49    Palm Beach       8801\n",
              "47        Orange       8610\n",
              "36          Leon       6139\n",
              "35           Lee       5588\n",
              "52          Polk       5524\n",
              "15         Duval       4996\n",
              "51      Pinellas       4712\n",
              "50         Pasco       4541\n",
              "0        Alachua       4504\n",
              "63       Volusia       3450\n",
              "4        Brevard       3137\n",
              "56      Seminole       2675"
            ]
          },
          "metadata": {
            "tags": []
          },
          "execution_count": 55
        }
      ]
    },
    {
      "cell_type": "markdown",
      "metadata": {
        "id": "W96b6Vfosg2c"
      },
      "source": [
        "### Groupby Select County and Individuals\n",
        "\n",
        "County Selected = 'Orange' county"
      ]
    },
    {
      "cell_type": "code",
      "metadata": {
        "colab": {
          "base_uri": "https://localhost:8080/",
          "height": 175
        },
        "id": "iPJf_aslj95c",
        "outputId": "f9f1d4b5-2d22-420e-9fc8-e10565f7bcaf"
      },
      "source": [
        "#collapse\n",
        "#collapse\n",
        "# groupby one county and individuals\n",
        "var = 'Orange'\n",
        "sel_county = df_long2[df_long2['County']==var]\n",
        "sel_county.groupby(['County','Individual'])['pos_covid'].sum().to_frame().reset_index()"
      ],
      "execution_count": null,
      "outputs": [
        {
          "output_type": "execute_result",
          "data": {
            "text/html": [
              "<div>\n",
              "<style scoped>\n",
              "    .dataframe tbody tr th:only-of-type {\n",
              "        vertical-align: middle;\n",
              "    }\n",
              "\n",
              "    .dataframe tbody tr th {\n",
              "        vertical-align: top;\n",
              "    }\n",
              "\n",
              "    .dataframe thead th {\n",
              "        text-align: right;\n",
              "    }\n",
              "</style>\n",
              "<table border=\"1\" class=\"dataframe\">\n",
              "  <thead>\n",
              "    <tr style=\"text-align: right;\">\n",
              "      <th></th>\n",
              "      <th>County</th>\n",
              "      <th>Individual</th>\n",
              "      <th>pos_covid</th>\n",
              "    </tr>\n",
              "  </thead>\n",
              "  <tbody>\n",
              "    <tr>\n",
              "      <th>0</th>\n",
              "      <td>Orange</td>\n",
              "      <td>Staff</td>\n",
              "      <td>239</td>\n",
              "    </tr>\n",
              "    <tr>\n",
              "      <th>1</th>\n",
              "      <td>Orange</td>\n",
              "      <td>Students</td>\n",
              "      <td>6976</td>\n",
              "    </tr>\n",
              "    <tr>\n",
              "      <th>2</th>\n",
              "      <td>Orange</td>\n",
              "      <td>Teachers</td>\n",
              "      <td>229</td>\n",
              "    </tr>\n",
              "    <tr>\n",
              "      <th>3</th>\n",
              "      <td>Orange</td>\n",
              "      <td>Unknown</td>\n",
              "      <td>1166</td>\n",
              "    </tr>\n",
              "  </tbody>\n",
              "</table>\n",
              "</div>"
            ],
            "text/plain": [
              "   County Individual  pos_covid\n",
              "0  Orange      Staff        239\n",
              "1  Orange   Students       6976\n",
              "2  Orange   Teachers        229\n",
              "3  Orange    Unknown       1166"
            ]
          },
          "metadata": {
            "tags": []
          },
          "execution_count": 56
        }
      ]
    },
    {
      "cell_type": "markdown",
      "metadata": {
        "id": "E2BNrTqPjdps"
      },
      "source": [
        "### Export Data to Excel Format"
      ]
    },
    {
      "cell_type": "code",
      "metadata": {
        "id": "ByKbNfTuFkeA"
      },
      "source": [
        "# Export Data to Excel Format\n",
        "df_long2 = df_long2.sort_values(by=['County','School']).reset_index(drop=True)\n",
        "df_long2.to_excel('Florida_Schools_COVID19_Cases_2020_2021.xls')"
      ],
      "execution_count": null,
      "outputs": []
    }
  ]
}